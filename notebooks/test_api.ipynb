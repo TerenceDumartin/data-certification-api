{
 "cells": [
  {
   "cell_type": "code",
   "execution_count": 5,
   "id": "handled-chocolate",
   "metadata": {},
   "outputs": [
    {
     "name": "stdout",
     "output_type": "stream",
     "text": [
      "API call success\n",
      "John Hartford\n",
      "Back in the Goodle Days\n",
      "22.245404331801364\n"
     ]
    }
   ],
   "source": [
    "import requests\n",
    "\n",
    "# fill the parameters for the prediction\n",
    "params = dict(\n",
    "            acousticness=0.654,\n",
    "            danceability=0.499,\n",
    "            duration_ms=219827,\n",
    "            energy=0.19,\n",
    "            explicit=0,\n",
    "            id= '0B6BeEUd6UwFlbsHMQKjob',\n",
    "            instrumentalness=0.00409,\n",
    "            key=7,\n",
    "            liveness=0.0898,\n",
    "            loudness=-16.435,\n",
    "            mode=1,\n",
    "            name='Back in the Goodle Days',\n",
    "            release_date=1971,\n",
    "            speechiness=0.0454,\n",
    "            tempo=149.46,\n",
    "            valence=0.43,\n",
    "            artist='John Hartford'\n",
    ")\n",
    "\n",
    "# URL\n",
    "music_api_url = \"https://api-exam-yipfkgjxsq-ew.a.run.app/predict\"\n",
    "\n",
    "# retrieve the response\n",
    "response = requests.get(\n",
    "    music_api_url,\n",
    "    params=params\n",
    ")\n",
    "\n",
    "if response.status_code == 200:\n",
    "    print(\"API call success\")\n",
    "else:\n",
    "    print(\"API call error\")\n",
    "\n",
    "#response.status_code, \n",
    "res = response.json()\n",
    "print(res['artist'])\n",
    "print(res['name'])\n",
    "print(res['prediction'])"
   ]
  },
  {
   "cell_type": "code",
   "execution_count": null,
   "id": "cooked-broadcasting",
   "metadata": {},
   "outputs": [],
   "source": []
  }
 ],
 "metadata": {
  "kernelspec": {
   "display_name": "Python 3",
   "language": "python",
   "name": "python3"
  },
  "language_info": {
   "codemirror_mode": {
    "name": "ipython",
    "version": 3
   },
   "file_extension": ".py",
   "mimetype": "text/x-python",
   "name": "python",
   "nbconvert_exporter": "python",
   "pygments_lexer": "ipython3",
   "version": "3.8.6"
  },
  "toc": {
   "base_numbering": 1,
   "nav_menu": {},
   "number_sections": true,
   "sideBar": true,
   "skip_h1_title": false,
   "title_cell": "Table of Contents",
   "title_sidebar": "Contents",
   "toc_cell": false,
   "toc_position": {},
   "toc_section_display": true,
   "toc_window_display": false
  },
  "varInspector": {
   "cols": {
    "lenName": 16,
    "lenType": 16,
    "lenVar": 40
   },
   "kernels_config": {
    "python": {
     "delete_cmd_postfix": "",
     "delete_cmd_prefix": "del ",
     "library": "var_list.py",
     "varRefreshCmd": "print(var_dic_list())"
    },
    "r": {
     "delete_cmd_postfix": ") ",
     "delete_cmd_prefix": "rm(",
     "library": "var_list.r",
     "varRefreshCmd": "cat(var_dic_list()) "
    }
   },
   "types_to_exclude": [
    "module",
    "function",
    "builtin_function_or_method",
    "instance",
    "_Feature"
   ],
   "window_display": false
  }
 },
 "nbformat": 4,
 "nbformat_minor": 5
}
